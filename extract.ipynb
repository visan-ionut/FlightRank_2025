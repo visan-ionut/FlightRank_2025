{
 "cells": [
  {
   "cell_type": "code",
   "execution_count": null,
   "id": "6168073d",
   "metadata": {},
   "outputs": [],
   "source": [
    "import os\n",
    "import json\n",
    "import pandas as pd\n",
    "from concurrent.futures import ProcessPoolExecutor, as_completed\n",
    "from tqdm import tqdm\n",
    "\n",
    "RAW_DIR = \"/home/zhengxiang/FlightRank/data/raw\"\n",
    "OUTPUT_FILE = \"/home/zhengxiang/FlightRank/data/raw_summary.parquet\"\n",
    "\n",
    "\n",
    "def extract_fields_from_json(file_path):\n",
    "    try:\n",
    "        with open(file_path, \"r\", encoding=\"utf-8\") as f:\n",
    "            data = json.load(f)\n",
    "    except (json.JSONDecodeError, OSError) as e:\n",
    "        return None\n",
    "\n",
    "    metadata = data.get(\"metadata\", {})\n",
    "    personal_data = data.get(\"personalData\", {})\n",
    "    return {\n",
    "        \"ranker_id\": os.path.splitext(os.path.basename(file_path))[0],\n",
    "        \"searchType\": metadata.get(\"searchType\"),\n",
    "        \"yearOfBirth\": personal_data.get(\"yearOfBirth\"),\n",
    "        \"hasAssistant\": personal_data.get(\"hasAssistant\"),\n",
    "        \"isGlobal\": personal_data.get(\"isGlobal\"),\n",
    "    }\n",
    "\n",
    "\n",
    "def main():\n",
    "    json_files = [\n",
    "        os.path.join(RAW_DIR, f) for f in os.listdir(RAW_DIR) if f.endswith(\".json\")\n",
    "    ]\n",
    "\n",
    "    results = []\n",
    "    with ProcessPoolExecutor(max_workers=os.cpu_count()) as executor:\n",
    "        futures = {\n",
    "            executor.submit(extract_fields_from_json, fp): fp for fp in json_files\n",
    "        }\n",
    "        for future in tqdm(as_completed(futures), total=len(json_files)):\n",
    "            result = future.result()\n",
    "            if result:\n",
    "                results.append(result)\n",
    "\n",
    "    if results:\n",
    "        pd.DataFrame(results).to_parquet(OUTPUT_FILE, index=False)\n",
    "        print(f\"保存完成: {OUTPUT_FILE}\")\n",
    "    else:\n",
    "        print(\"未找到任何有效 JSON 文件！\")\n",
    "\n",
    "\n",
    "# if __name__ == \"__main__\":\n",
    "#     main()"
   ]
  },
  {
   "cell_type": "code",
   "execution_count": 1,
   "id": "8bf28a54",
   "metadata": {},
   "outputs": [
    {
     "name": "stdout",
     "output_type": "stream",
     "text": [
      "shape: (21_347_281, 17)\n",
      "┌────────────┬────────┬────────────┬──────────┬───┬────────────┬───────────┬───────────┬───────────┐\n",
      "│ ranker_id  ┆ row_id ┆ totalPrice ┆ category ┆ … ┆ supplier   ┆ canBuyAdd ┆ flight_ca ┆ ticket_de │\n",
      "│ ---        ┆ ---    ┆ ---        ┆ ---      ┆   ┆ ---        ┆ Ser       ┆ tegory    ┆ signator  │\n",
      "│ str        ┆ i64    ┆ f64        ┆ i64      ┆   ┆ str        ┆ ---       ┆ ---       ┆ ---       │\n",
      "│            ┆        ┆            ┆          ┆   ┆            ┆ bool      ┆ i64       ┆ null      │\n",
      "╞════════════╪════════╪════════════╪══════════╪═══╪════════════╪═══════════╪═══════════╪═══════════╡\n",
      "│ b960cbc710 ┆ 1      ┆ 8150.0     ┆ 283      ┆ … ┆ a1e6a000-e ┆ false     ┆ 1         ┆ null      │\n",
      "│ b64950b1d7 ┆        ┆            ┆          ┆   ┆ ba1-bab0-d ┆           ┆           ┆           │\n",
      "│ 6d1f06ab79 ┆        ┆            ┆          ┆   ┆ ead-bab1be ┆           ┆           ┆           │\n",
      "│ …          ┆        ┆            ┆          ┆   ┆ …          ┆           ┆           ┆           │\n",
      "│ b960cbc710 ┆ 2      ┆ 10205.0    ┆ 256      ┆ … ┆ a1e6a000-e ┆ false     ┆ 1         ┆ null      │\n",
      "│ b64950b1d7 ┆        ┆            ┆          ┆   ┆ ba1-bab0-d ┆           ┆           ┆           │\n",
      "│ 6d1f06ab79 ┆        ┆            ┆          ┆   ┆ ead-bab1be ┆           ┆           ┆           │\n",
      "│ …          ┆        ┆            ┆          ┆   ┆ …          ┆           ┆           ┆           │\n",
      "│ b960cbc710 ┆ 3      ┆ 25660.0    ┆ 256      ┆ … ┆ a1e6a000-e ┆ false     ┆ 1         ┆ null      │\n",
      "│ b64950b1d7 ┆        ┆            ┆          ┆   ┆ ba1-bab0-d ┆           ┆           ┆           │\n",
      "│ 6d1f06ab79 ┆        ┆            ┆          ┆   ┆ ead-bab1be ┆           ┆           ┆           │\n",
      "│ …          ┆        ┆            ┆          ┆   ┆ …          ┆           ┆           ┆           │\n",
      "│ 99d7fb3f49 ┆ 1      ┆ 3717.0     ┆ 15       ┆ … ┆ e294cac4-e ┆ false     ┆ 0         ┆ null      │\n",
      "│ c642f0b4d4 ┆        ┆            ┆          ┆   ┆ a1b-4431-b ┆           ┆           ┆           │\n",
      "│ 5d2156271d ┆        ┆            ┆          ┆   ┆ c5c-464118 ┆           ┆           ┆           │\n",
      "│ …          ┆        ┆            ┆          ┆   ┆ …          ┆           ┆           ┆           │\n",
      "│ 99d7fb3f49 ┆ 2      ┆ 4317.0     ┆ 0        ┆ … ┆ e294cac4-e ┆ false     ┆ 0         ┆ null      │\n",
      "│ c642f0b4d4 ┆        ┆            ┆          ┆   ┆ a1b-4431-b ┆           ┆           ┆           │\n",
      "│ 5d2156271d ┆        ┆            ┆          ┆   ┆ c5c-464118 ┆           ┆           ┆           │\n",
      "│ …          ┆        ┆            ┆          ┆   ┆ …          ┆           ┆           ┆           │\n",
      "│ …          ┆ …      ┆ …          ┆ …        ┆ … ┆ …          ┆ …         ┆ …         ┆ …         │\n",
      "│ 3921deea89 ┆ 4997   ┆ 63408.0    ┆ 0        ┆ … ┆ e294cac4-e ┆ false     ┆ 0         ┆ null      │\n",
      "│ 204e76bf09 ┆        ┆            ┆          ┆   ┆ a1b-4431-b ┆           ┆           ┆           │\n",
      "│ a275b0d73c ┆        ┆            ┆          ┆   ┆ c5c-464118 ┆           ┆           ┆           │\n",
      "│ …          ┆        ┆            ┆          ┆   ┆ …          ┆           ┆           ┆           │\n",
      "│ 3921deea89 ┆ 4998   ┆ 39708.0    ┆ 0        ┆ … ┆ e294cac4-e ┆ false     ┆ 0         ┆ null      │\n",
      "│ 204e76bf09 ┆        ┆            ┆          ┆   ┆ a1b-4431-b ┆           ┆           ┆           │\n",
      "│ a275b0d73c ┆        ┆            ┆          ┆   ┆ c5c-464118 ┆           ┆           ┆           │\n",
      "│ …          ┆        ┆            ┆          ┆   ┆ …          ┆           ┆           ┆           │\n",
      "│ 3921deea89 ┆ 4999   ┆ 40708.0    ┆ 0        ┆ … ┆ e294cac4-e ┆ false     ┆ 0         ┆ null      │\n",
      "│ 204e76bf09 ┆        ┆            ┆          ┆   ┆ a1b-4431-b ┆           ┆           ┆           │\n",
      "│ a275b0d73c ┆        ┆            ┆          ┆   ┆ c5c-464118 ┆           ┆           ┆           │\n",
      "│ …          ┆        ┆            ┆          ┆   ┆ …          ┆           ┆           ┆           │\n",
      "│ 3921deea89 ┆ 5000   ┆ 47608.0    ┆ 0        ┆ … ┆ e294cac4-e ┆ false     ┆ 0         ┆ null      │\n",
      "│ 204e76bf09 ┆        ┆            ┆          ┆   ┆ a1b-4431-b ┆           ┆           ┆           │\n",
      "│ a275b0d73c ┆        ┆            ┆          ┆   ┆ c5c-464118 ┆           ┆           ┆           │\n",
      "│ …          ┆        ┆            ┆          ┆   ┆ …          ┆           ┆           ┆           │\n",
      "│ 3921deea89 ┆ 5001   ┆ 63408.0    ┆ 0        ┆ … ┆ e294cac4-e ┆ false     ┆ 0         ┆ null      │\n",
      "│ 204e76bf09 ┆        ┆            ┆          ┆   ┆ a1b-4431-b ┆           ┆           ┆           │\n",
      "│ a275b0d73c ┆        ┆            ┆          ┆   ┆ c5c-464118 ┆           ┆           ┆           │\n",
      "│ …          ┆        ┆            ┆          ┆   ┆ …          ┆           ┆           ┆           │\n",
      "└────────────┴────────┴────────────┴──────────┴───┴────────────┴───────────┴───────────┴───────────┘\n"
     ]
    }
   ],
   "source": [
    "import polars as pl\n",
    "\n",
    "df = pl.read_parquet(\"./data/label.parquet\")\n",
    "print(df)"
   ]
  },
  {
   "cell_type": "code",
   "execution_count": 3,
   "id": "cd9d9af8",
   "metadata": {},
   "outputs": [
    {
     "name": "stdout",
     "output_type": "stream",
     "text": [
      "shape: (123_379, 17)\n",
      "┌────────────┬────────┬────────────┬──────────┬───┬────────────┬───────────┬───────────┬───────────┐\n",
      "│ ranker_id  ┆ row_id ┆ totalPrice ┆ category ┆ … ┆ supplier   ┆ canBuyAdd ┆ flight_ca ┆ ticket_de │\n",
      "│ ---        ┆ ---    ┆ ---        ┆ ---      ┆   ┆ ---        ┆ Ser       ┆ tegory    ┆ signator  │\n",
      "│ str        ┆ i64    ┆ f64        ┆ i64      ┆   ┆ str        ┆ ---       ┆ ---       ┆ ---       │\n",
      "│            ┆        ┆            ┆          ┆   ┆            ┆ bool      ┆ i64       ┆ null      │\n",
      "╞════════════╪════════╪════════════╪══════════╪═══╪════════════╪═══════════╪═══════════╪═══════════╡\n",
      "│ b960cbc710 ┆ 1      ┆ 8150.0     ┆ 283      ┆ … ┆ a1e6a000-e ┆ false     ┆ 1         ┆ null      │\n",
      "│ b64950b1d7 ┆        ┆            ┆          ┆   ┆ ba1-bab0-d ┆           ┆           ┆           │\n",
      "│ 6d1f06ab79 ┆        ┆            ┆          ┆   ┆ ead-bab1be ┆           ┆           ┆           │\n",
      "│ …          ┆        ┆            ┆          ┆   ┆ …          ┆           ┆           ┆           │\n",
      "│ 99d7fb3f49 ┆ 11     ┆ 3717.0     ┆ 16       ┆ … ┆ e294cac4-e ┆ false     ┆ 0         ┆ null      │\n",
      "│ c642f0b4d4 ┆        ┆            ┆          ┆   ┆ a1b-4431-b ┆           ┆           ┆           │\n",
      "│ 5d2156271d ┆        ┆            ┆          ┆   ┆ c5c-464118 ┆           ┆           ┆           │\n",
      "│ …          ┆        ┆            ┆          ┆   ┆ …          ┆           ┆           ┆           │\n",
      "│ 53e6fdbd9d ┆ 4      ┆ 11641.0    ┆ 272      ┆ … ┆ 7843589e-2 ┆ false     ┆ 1         ┆ null      │\n",
      "│ 4f479699bf ┆        ┆            ┆          ┆   ┆ da5-43fc-8 ┆           ┆           ┆           │\n",
      "│ b13bcbe237 ┆        ┆            ┆          ┆   ┆ 780-87b174 ┆           ┆           ┆           │\n",
      "│ …          ┆        ┆            ┆          ┆   ┆ …          ┆           ┆           ┆           │\n",
      "│ 06ab1ad214 ┆ 1      ┆ 28937.0    ┆ 275      ┆ … ┆ e294cac4-e ┆ false     ┆ 1         ┆ null      │\n",
      "│ 7f472bb0f0 ┆        ┆            ┆          ┆   ┆ a1b-4431-b ┆           ┆           ┆           │\n",
      "│ 7ad89f101c ┆        ┆            ┆          ┆   ┆ c5c-464118 ┆           ┆           ┆           │\n",
      "│ …          ┆        ┆            ┆          ┆   ┆ …          ┆           ┆           ┆           │\n",
      "│ 84f9039d87 ┆ 1      ┆ 11323.0    ┆ 23       ┆ … ┆ 7843589e-2 ┆ false     ┆ 0         ┆ null      │\n",
      "│ 6d47648996 ┆        ┆            ┆          ┆   ┆ da5-43fc-8 ┆           ┆           ┆           │\n",
      "│ bf8bdd2887 ┆        ┆            ┆          ┆   ┆ 780-87b174 ┆           ┆           ┆           │\n",
      "│ …          ┆        ┆            ┆          ┆   ┆ …          ┆           ┆           ┆           │\n",
      "│ …          ┆ …      ┆ …          ┆ …        ┆ … ┆ …          ┆ …         ┆ …         ┆ …         │\n",
      "│ be23b2b628 ┆ 1      ┆ 8590.0     ┆ 23       ┆ … ┆ 7843589e-2 ┆ false     ┆ 0         ┆ null      │\n",
      "│ fc47728c77 ┆        ┆            ┆          ┆   ┆ da5-43fc-8 ┆           ┆           ┆           │\n",
      "│ d66828d9c7 ┆        ┆            ┆          ┆   ┆ 780-87b174 ┆           ┆           ┆           │\n",
      "│ …          ┆        ┆            ┆          ┆   ┆ …          ┆           ┆           ┆           │\n",
      "│ 843d29a23e ┆ 1      ┆ 21266.0    ┆ 279      ┆ … ┆ 7843589e-2 ┆ false     ┆ 1         ┆ null      │\n",
      "│ 8344f8a80b ┆        ┆            ┆          ┆   ┆ da5-43fc-8 ┆           ┆           ┆           │\n",
      "│ 4876da616b ┆        ┆            ┆          ┆   ┆ 780-87b174 ┆           ┆           ┆           │\n",
      "│ …          ┆        ┆            ┆          ┆   ┆ …          ┆           ┆           ┆           │\n",
      "│ 7fe045236a ┆ 8      ┆ 9570.0     ┆ 16       ┆ … ┆ 7843589e-2 ┆ false     ┆ 0         ┆ null      │\n",
      "│ 4446af81d5 ┆        ┆            ┆          ┆   ┆ da5-43fc-8 ┆           ┆           ┆           │\n",
      "│ db6d380c92 ┆        ┆            ┆          ┆   ┆ 780-87b174 ┆           ┆           ┆           │\n",
      "│ …          ┆        ┆            ┆          ┆   ┆ …          ┆           ┆           ┆           │\n",
      "│ 633e220212 ┆ 1      ┆ 12034.0    ┆ 29       ┆ … ┆ 7843589e-2 ┆ false     ┆ 0         ┆ null      │\n",
      "│ e24d21930d ┆        ┆            ┆          ┆   ┆ da5-43fc-8 ┆           ┆           ┆           │\n",
      "│ cbeae6226b ┆        ┆            ┆          ┆   ┆ 780-87b174 ┆           ┆           ┆           │\n",
      "│ …          ┆        ┆            ┆          ┆   ┆ …          ┆           ┆           ┆           │\n",
      "│ 3921deea89 ┆ 1      ┆ 6368.0     ┆ 23       ┆ … ┆ 7843589e-2 ┆ true      ┆ 0         ┆ null      │\n",
      "│ 204e76bf09 ┆        ┆            ┆          ┆   ┆ da5-43fc-8 ┆           ┆           ┆           │\n",
      "│ a275b0d73c ┆        ┆            ┆          ┆   ┆ 780-87b174 ┆           ┆           ┆           │\n",
      "│ …          ┆        ┆            ┆          ┆   ┆ …          ┆           ┆           ┆           │\n",
      "└────────────┴────────┴────────────┴──────────┴───┴────────────┴───────────┴───────────┴───────────┘\n"
     ]
    }
   ],
   "source": [
    "df_filtered = df.filter(pl.col(\"labels\").list.contains(\"Convenience\"))\n",
    "print(df_filtered)"
   ]
  },
  {
   "cell_type": "code",
   "execution_count": 4,
   "id": "625ba217",
   "metadata": {},
   "outputs": [
    {
     "data": {
      "image/png": "[encoded data removed]",
      "text/plain": [
       "<Figure size 1200x500 with 2 Axes>"
      ]
     },
     "metadata": {},
     "output_type": "display_data"
    }
   ],
   "source": [
    "import matplotlib.pyplot as plt\n",
    "\n",
    "df_hours = df_filtered.select(\n",
    "    [\n",
    "        pl.col(\"legs0_departureAt\")\n",
    "        .str.strptime(pl.Datetime, \"%Y-%m-%dT%H:%M:%S\")\n",
    "        .dt.hour()\n",
    "        .alias(\"departure_hour\"),\n",
    "        pl.col(\"legs0_arrivalAt\")\n",
    "        .str.strptime(pl.Datetime, \"%Y-%m-%dT%H:%M:%S\")\n",
    "        .dt.hour()\n",
    "        .alias(\"arrival_hour\"),\n",
    "    ]\n",
    ")\n",
    "\n",
    "# 转为 pandas\n",
    "departure_hours = df_hours[\"departure_hour\"].to_pandas()\n",
    "arrival_hours = df_hours[\"arrival_hour\"].to_pandas()\n",
    "\n",
    "# 可视化\n",
    "plt.figure(figsize=(12, 5))\n",
    "\n",
    "plt.subplot(1, 2, 1)\n",
    "plt.hist(\n",
    "    departure_hours.dropna(),\n",
    "    bins=range(25),\n",
    "    color=\"skyblue\",\n",
    "    edgecolor=\"black\",\n",
    "    align=\"left\",\n",
    ")\n",
    "plt.xticks(range(0, 24))\n",
    "plt.title(\"Departure Hour Distribution (Convenience)\")\n",
    "plt.xlabel(\"Hour of Day\")\n",
    "plt.ylabel(\"Count\")\n",
    "\n",
    "plt.subplot(1, 2, 2)\n",
    "plt.hist(\n",
    "    arrival_hours.dropna(),\n",
    "    bins=range(25),\n",
    "    color=\"salmon\",\n",
    "    edgecolor=\"black\",\n",
    "    align=\"left\",\n",
    ")\n",
    "plt.xticks(range(0, 24))\n",
    "plt.title(\"Arrival Hour Distribution (Convenience)\")\n",
    "plt.xlabel(\"Hour of Day\")\n",
    "plt.ylabel(\"Count\")\n",
    "\n",
    "plt.tight_layout()\n",
    "plt.show()"
   ]
  },
  {
   "cell_type": "code",
   "execution_count": 4,
   "id": "f0f89426",
   "metadata": {},
   "outputs": [],
   "source": [
    "import os, json\n",
    "import polars as pl\n",
    "\n",
    "\n",
    "def extract_fields_from_json(file_path):\n",
    "    try:\n",
    "        with open(file_path, \"r\", encoding=\"utf-8\") as f:\n",
    "            data = json.load(f)\n",
    "    except (json.JSONDecodeError, OSError) as e:\n",
    "        return None\n",
    "\n",
    "    all_labels = []\n",
    "\n",
    "    for flight in data[\"data\"][\"$values\"]:\n",
    "        flight_id = flight[\"id\"]\n",
    "        for pricing in flight.get(\"pricings\", []):\n",
    "            pricing_id = pricing[\"id\"]\n",
    "            labels = pricing.get(\"labels\", [])\n",
    "            all_labels.append(\n",
    "                {\"flight_id\": flight_id, \"pricing_id\": pricing_id, \"labels\": labels}\n",
    "            )\n",
    "\n",
    "    return all_labels"
   ]
  },
  {
   "cell_type": "code",
   "execution_count": 8,
   "id": "99944563",
   "metadata": {},
   "outputs": [
    {
     "name": "stdout",
     "output_type": "stream",
     "text": [
      "{'ranker_id': 'fff23aff1b224e1c8612408c302a60f4', 'row_id': 1, 'totalPrice': 35327.0, 'category': 27, 'legs0_departureAt': '2024-08-19T12:30:00', 'legs0_arrivalAt': '2024-08-19T16:20:00', 'legs1_departureAt': '2024-08-23T06:00:00', 'legs1_arrivalAt': '2024-08-23T12:55:00', 'legs0_segments0_flightNumber': '1211', 'legs1_segments0_flightNumber': '1835', 'legs0_segments1_flightNumber': '1836', 'legs1_segments1_flightNumber': '1218', 'labels': ['BestPrice', 'BestPriceTravelPolicy', 'BestPriceCorporateTariff', 'Convenience'], 'supplier': 'e294cac4-ea1b-4431-bc5c-464118070816', 'canBuyAddSer': False, 'flight_category': 0, 'ticket_designator': None}\n",
      "{'ranker_id': 'fff23aff1b224e1c8612408c302a60f4', 'row_id': 2, 'totalPrice': 42132.0, 'category': 0, 'legs0_departureAt': '2024-08-19T12:30:00', 'legs0_arrivalAt': '2024-08-19T16:20:00', 'legs1_departureAt': '2024-08-23T06:00:00', 'legs1_arrivalAt': '2024-08-23T12:55:00', 'legs0_segments0_flightNumber': '1211', 'legs1_segments0_flightNumber': '1835', 'legs0_segments1_flightNumber': '1836', 'legs1_segments1_flightNumber': '1218', 'labels': [], 'supplier': 'e294cac4-ea1b-4431-bc5c-464118070816', 'canBuyAddSer': False, 'flight_category': 0, 'ticket_designator': None}\n",
      "{'ranker_id': 'fff23aff1b224e1c8612408c302a60f4', 'row_id': 3, 'totalPrice': 65567.0, 'category': 0, 'legs0_departureAt': '2024-08-19T12:30:00', 'legs0_arrivalAt': '2024-08-19T16:20:00', 'legs1_departureAt': '2024-08-23T06:00:00', 'legs1_arrivalAt': '2024-08-23T12:55:00', 'legs0_segments0_flightNumber': '1211', 'legs1_segments0_flightNumber': '1835', 'legs0_segments1_flightNumber': '1836', 'legs1_segments1_flightNumber': '1218', 'labels': [], 'supplier': 'e294cac4-ea1b-4431-bc5c-464118070816', 'canBuyAddSer': False, 'flight_category': 0, 'ticket_designator': None}\n",
      "{'ranker_id': 'fff23aff1b224e1c8612408c302a60f4', 'row_id': 4, 'totalPrice': 41752.0, 'category': 256, 'legs0_departureAt': '2024-08-19T10:00:00', 'legs0_arrivalAt': '2024-08-19T13:45:00', 'legs1_departureAt': '2024-08-23T17:20:00', 'legs1_arrivalAt': '2024-08-23T23:50:00', 'legs0_segments0_flightNumber': '1603', 'legs1_segments0_flightNumber': '1837', 'legs0_segments1_flightNumber': '1842', 'legs1_segments1_flightNumber': '1686', 'labels': ['MinTime'], 'supplier': 'e294cac4-ea1b-4431-bc5c-464118070816', 'canBuyAddSer': False, 'flight_category': 1, 'ticket_designator': None}\n",
      "{'ranker_id': 'fff23aff1b224e1c8612408c302a60f4', 'row_id': 5, 'totalPrice': 48652.0, 'category': 256, 'legs0_departureAt': '2024-08-19T10:00:00', 'legs0_arrivalAt': '2024-08-19T13:45:00', 'legs1_departureAt': '2024-08-23T17:20:00', 'legs1_arrivalAt': '2024-08-23T23:50:00', 'legs0_segments0_flightNumber': '1603', 'legs1_segments0_flightNumber': '1837', 'legs0_segments1_flightNumber': '1842', 'legs1_segments1_flightNumber': '1686', 'labels': ['MinTime'], 'supplier': 'e294cac4-ea1b-4431-bc5c-464118070816', 'canBuyAddSer': False, 'flight_category': 1, 'ticket_designator': None}\n",
      "{'ranker_id': 'fff23aff1b224e1c8612408c302a60f4', 'row_id': 6, 'totalPrice': 68212.0, 'category': 256, 'legs0_departureAt': '2024-08-19T10:00:00', 'legs0_arrivalAt': '2024-08-19T13:45:00', 'legs1_departureAt': '2024-08-23T17:20:00', 'legs1_arrivalAt': '2024-08-23T23:50:00', 'legs0_segments0_flightNumber': '1603', 'legs1_segments0_flightNumber': '1837', 'legs0_segments1_flightNumber': '1842', 'legs1_segments1_flightNumber': '1686', 'labels': ['MinTime'], 'supplier': 'e294cac4-ea1b-4431-bc5c-464118070816', 'canBuyAddSer': False, 'flight_category': 1, 'ticket_designator': None}\n",
      "{'ranker_id': 'fff23aff1b224e1c8612408c302a60f4', 'row_id': 7, 'totalPrice': 37217.0, 'category': 0, 'legs0_departureAt': '2024-08-19T12:30:00', 'legs0_arrivalAt': '2024-08-19T16:20:00', 'legs1_departureAt': '2024-08-23T17:20:00', 'legs1_arrivalAt': '2024-08-23T23:50:00', 'legs0_segments0_flightNumber': '1211', 'legs1_segments0_flightNumber': '1837', 'legs0_segments1_flightNumber': '1836', 'legs1_segments1_flightNumber': '1686', 'labels': [], 'supplier': 'e294cac4-ea1b-4431-bc5c-464118070816', 'canBuyAddSer': False, 'flight_category': 0, 'ticket_designator': None}\n",
      "{'ranker_id': 'fff23aff1b224e1c8612408c302a60f4', 'row_id': 8, 'totalPrice': 44022.0, 'category': 0, 'legs0_departureAt': '2024-08-19T12:30:00', 'legs0_arrivalAt': '2024-08-19T16:20:00', 'legs1_departureAt': '2024-08-23T17:20:00', 'legs1_arrivalAt': '2024-08-23T23:50:00', 'legs0_segments0_flightNumber': '1211', 'legs1_segments0_flightNumber': '1837', 'legs0_segments1_flightNumber': '1836', 'legs1_segments1_flightNumber': '1686', 'labels': [], 'supplier': 'e294cac4-ea1b-4431-bc5c-464118070816', 'canBuyAddSer': False, 'flight_category': 0, 'ticket_designator': None}\n",
      "{'ranker_id': 'fff23aff1b224e1c8612408c302a60f4', 'row_id': 9, 'totalPrice': 67837.0, 'category': 0, 'legs0_departureAt': '2024-08-19T12:30:00', 'legs0_arrivalAt': '2024-08-19T16:20:00', 'legs1_departureAt': '2024-08-23T17:20:00', 'legs1_arrivalAt': '2024-08-23T23:50:00', 'legs0_segments0_flightNumber': '1211', 'legs1_segments0_flightNumber': '1837', 'legs0_segments1_flightNumber': '1836', 'legs1_segments1_flightNumber': '1686', 'labels': [], 'supplier': 'e294cac4-ea1b-4431-bc5c-464118070816', 'canBuyAddSer': False, 'flight_category': 0, 'ticket_designator': None}\n",
      "{'ranker_id': 'fff23aff1b224e1c8612408c302a60f4', 'row_id': 10, 'totalPrice': 37217.0, 'category': 0, 'legs0_departureAt': '2024-08-19T12:30:00', 'legs0_arrivalAt': '2024-08-19T16:20:00', 'legs1_departureAt': '2024-08-23T14:45:00', 'legs1_arrivalAt': '2024-08-23T22:00:00', 'legs0_segments0_flightNumber': '1211', 'legs1_segments0_flightNumber': '1843', 'legs0_segments1_flightNumber': '1836', 'legs1_segments1_flightNumber': '1604', 'labels': [], 'supplier': 'e294cac4-ea1b-4431-bc5c-464118070816', 'canBuyAddSer': False, 'flight_category': 0, 'ticket_designator': None}\n",
      "{'ranker_id': 'fff23aff1b224e1c8612408c302a60f4', 'row_id': 11, 'totalPrice': 44022.0, 'category': 0, 'legs0_departureAt': '2024-08-19T12:30:00', 'legs0_arrivalAt': '2024-08-19T16:20:00', 'legs1_departureAt': '2024-08-23T14:45:00', 'legs1_arrivalAt': '2024-08-23T22:00:00', 'legs0_segments0_flightNumber': '1211', 'legs1_segments0_flightNumber': '1843', 'legs0_segments1_flightNumber': '1836', 'legs1_segments1_flightNumber': '1604', 'labels': [], 'supplier': 'e294cac4-ea1b-4431-bc5c-464118070816', 'canBuyAddSer': False, 'flight_category': 0, 'ticket_designator': None}\n",
      "{'ranker_id': 'fff23aff1b224e1c8612408c302a60f4', 'row_id': 12, 'totalPrice': 67837.0, 'category': 0, 'legs0_departureAt': '2024-08-19T12:30:00', 'legs0_arrivalAt': '2024-08-19T16:20:00', 'legs1_departureAt': '2024-08-23T14:45:00', 'legs1_arrivalAt': '2024-08-23T22:00:00', 'legs0_segments0_flightNumber': '1211', 'legs1_segments0_flightNumber': '1843', 'legs0_segments1_flightNumber': '1836', 'legs1_segments1_flightNumber': '1604', 'labels': [], 'supplier': 'e294cac4-ea1b-4431-bc5c-464118070816', 'canBuyAddSer': False, 'flight_category': 0, 'ticket_designator': None}\n",
      "{'ranker_id': 'fff23aff1b224e1c8612408c302a60f4', 'row_id': 13, 'totalPrice': 39862.0, 'category': 0, 'legs0_departureAt': '2024-08-19T10:00:00', 'legs0_arrivalAt': '2024-08-19T13:45:00', 'legs1_departureAt': '2024-08-23T06:00:00', 'legs1_arrivalAt': '2024-08-23T12:55:00', 'legs0_segments0_flightNumber': '1603', 'legs1_segments0_flightNumber': '1835', 'legs0_segments1_flightNumber': '1842', 'legs1_segments1_flightNumber': '1218', 'labels': [], 'supplier': 'e294cac4-ea1b-4431-bc5c-464118070816', 'canBuyAddSer': False, 'flight_category': 0, 'ticket_designator': None}\n",
      "{'ranker_id': 'fff23aff1b224e1c8612408c302a60f4', 'row_id': 14, 'totalPrice': 46762.0, 'category': 0, 'legs0_departureAt': '2024-08-19T10:00:00', 'legs0_arrivalAt': '2024-08-19T13:45:00', 'legs1_departureAt': '2024-08-23T06:00:00', 'legs1_arrivalAt': '2024-08-23T12:55:00', 'legs0_segments0_flightNumber': '1603', 'legs1_segments0_flightNumber': '1835', 'legs0_segments1_flightNumber': '1842', 'legs1_segments1_flightNumber': '1218', 'labels': [], 'supplier': 'e294cac4-ea1b-4431-bc5c-464118070816', 'canBuyAddSer': False, 'flight_category': 0, 'ticket_designator': None}\n",
      "{'ranker_id': 'fff23aff1b224e1c8612408c302a60f4', 'row_id': 15, 'totalPrice': 65947.0, 'category': 0, 'legs0_departureAt': '2024-08-19T10:00:00', 'legs0_arrivalAt': '2024-08-19T13:45:00', 'legs1_departureAt': '2024-08-23T06:00:00', 'legs1_arrivalAt': '2024-08-23T12:55:00', 'legs0_segments0_flightNumber': '1603', 'legs1_segments0_flightNumber': '1835', 'legs0_segments1_flightNumber': '1842', 'legs1_segments1_flightNumber': '1218', 'labels': [], 'supplier': 'e294cac4-ea1b-4431-bc5c-464118070816', 'canBuyAddSer': False, 'flight_category': 0, 'ticket_designator': None}\n",
      "{'ranker_id': 'fff23aff1b224e1c8612408c302a60f4', 'row_id': 16, 'totalPrice': 41752.0, 'category': 0, 'legs0_departureAt': '2024-08-19T10:00:00', 'legs0_arrivalAt': '2024-08-19T13:45:00', 'legs1_departureAt': '2024-08-23T14:45:00', 'legs1_arrivalAt': '2024-08-23T22:00:00', 'legs0_segments0_flightNumber': '1603', 'legs1_segments0_flightNumber': '1843', 'legs0_segments1_flightNumber': '1842', 'legs1_segments1_flightNumber': '1604', 'labels': [], 'supplier': 'e294cac4-ea1b-4431-bc5c-464118070816', 'canBuyAddSer': False, 'flight_category': 0, 'ticket_designator': None}\n",
      "{'ranker_id': 'fff23aff1b224e1c8612408c302a60f4', 'row_id': 17, 'totalPrice': 48652.0, 'category': 0, 'legs0_departureAt': '2024-08-19T10:00:00', 'legs0_arrivalAt': '2024-08-19T13:45:00', 'legs1_departureAt': '2024-08-23T14:45:00', 'legs1_arrivalAt': '2024-08-23T22:00:00', 'legs0_segments0_flightNumber': '1603', 'legs1_segments0_flightNumber': '1843', 'legs0_segments1_flightNumber': '1842', 'legs1_segments1_flightNumber': '1604', 'labels': [], 'supplier': 'e294cac4-ea1b-4431-bc5c-464118070816', 'canBuyAddSer': False, 'flight_category': 0, 'ticket_designator': None}\n",
      "{'ranker_id': 'fff23aff1b224e1c8612408c302a60f4', 'row_id': 18, 'totalPrice': 68212.0, 'category': 0, 'legs0_departureAt': '2024-08-19T10:00:00', 'legs0_arrivalAt': '2024-08-19T13:45:00', 'legs1_departureAt': '2024-08-23T14:45:00', 'legs1_arrivalAt': '2024-08-23T22:00:00', 'legs0_segments0_flightNumber': '1603', 'legs1_segments0_flightNumber': '1843', 'legs0_segments1_flightNumber': '1842', 'legs1_segments1_flightNumber': '1604', 'labels': [], 'supplier': 'e294cac4-ea1b-4431-bc5c-464118070816', 'canBuyAddSer': False, 'flight_category': 0, 'ticket_designator': None}\n"
     ]
    }
   ],
   "source": [
    "file_path = \"/home/zhengxiang/FlightRank/data/raw/fff23aff1b224e1c8612408c302a60f4.json\"\n",
    "json_res = extract_labels_from_json(file_path)\n",
    "for res in json_res:\n",
    "    print(res)"
   ]
  },
  {
   "cell_type": "code",
   "execution_count": null,
   "id": "e0efd445",
   "metadata": {},
   "outputs": [
    {
     "name": "stderr",
     "output_type": "stream",
     "text": [
      "100%|██████████| 150770/150770 [01:59<00:00, 1265.29it/s]\n"
     ]
    }
   ],
   "source": [
    "import os\n",
    "import ijson\n",
    "import pandas as pd\n",
    "from concurrent.futures import ProcessPoolExecutor, as_completed\n",
    "from tqdm import tqdm\n",
    "\n",
    "RAW_DIR = \"/home/zhengxiang/FlightRank/data/raw\"\n",
    "OUTPUT_FILE = \"/home/zhengxiang/FlightRank/data/label.parquet\"\n",
    "\n",
    "\n",
    "def extract_labels_from_json(file_path):\n",
    "    ranker_id = os.path.splitext(os.path.basename(file_path))[0]\n",
    "    results = []\n",
    "    # group_id = 0\n",
    "    try:\n",
    "        with open(file_path, \"rb\") as f:\n",
    "            flights = ijson.items(f, \"data.$values.item\")\n",
    "            for flight in flights:\n",
    "                legs = flight.get(\"legs\", [])\n",
    "\n",
    "                for pricing in flight.get(\"pricings\", []):\n",
    "                    results.append(\n",
    "                        {\n",
    "                            \"ranker_id\": ranker_id,\n",
    "                            # \"group_id\": group_id,\n",
    "                            \"row_id\": pricing.get(\"ordinal\", 0) + 1,\n",
    "                            \"totalPrice\": float(pricing.get(\"totalPrice\", 0.0)),\n",
    "                            \"category\": pricing.get(\"category\", None),\n",
    "                            \"labels\": pricing.get(\"labels\", []),\n",
    "                        }\n",
    "                    )\n",
    "                # group_id += 1\n",
    "    except Exception as e:\n",
    "        print(f\"Error: {e}\")\n",
    "    return results\n",
    "\n",
    "\n",
    "def main():\n",
    "    json_files = [\n",
    "        os.path.join(RAW_DIR, f) for f in os.listdir(RAW_DIR) if f.endswith(\".json\")\n",
    "    ]\n",
    "\n",
    "    all_results = []\n",
    "    with ProcessPoolExecutor(max_workers=16) as executor:\n",
    "        futures = {\n",
    "            executor.submit(extract_labels_from_json, fp): fp for fp in json_files\n",
    "        }\n",
    "        for future in tqdm(as_completed(futures), total=len(json_files)):\n",
    "            result = future.result()\n",
    "            if result:\n",
    "                all_results.extend(result)\n",
    "\n",
    "    return pd.DataFrame(all_results)\n",
    "\n",
    "\n",
    "if __name__ == \"__main__\":\n",
    "    extract_df = main()"
   ]
  },
  {
   "cell_type": "code",
   "execution_count": 11,
   "id": "bb2cfae3",
   "metadata": {},
   "outputs": [
    {
     "name": "stdout",
     "output_type": "stream",
     "text": [
      "21347281\n"
     ]
    }
   ],
   "source": [
    "print(len(extract_df))"
   ]
  },
  {
   "cell_type": "code",
   "execution_count": 12,
   "id": "c3d803fe",
   "metadata": {},
   "outputs": [
    {
     "name": "stdout",
     "output_type": "stream",
     "text": [
      "                          ranker_id  row_id  totalPrice  category  \\\n",
      "0  b960cbc710b64950b1d76d1f06ab7968       1      8150.0       283   \n",
      "1  b960cbc710b64950b1d76d1f06ab7968       2     10205.0       256   \n",
      "2  b960cbc710b64950b1d76d1f06ab7968       3     25660.0       256   \n",
      "3  99d7fb3f49c642f0b4d45d2156271d56       1      3717.0        15   \n",
      "4  99d7fb3f49c642f0b4d45d2156271d56       2      4317.0         0   \n",
      "\n",
      "     legs0_departureAt      legs0_arrivalAt legs1_departureAt legs1_arrivalAt  \\\n",
      "0  2024-09-28T04:45:00  2024-09-28T08:10:00              None            None   \n",
      "1  2024-09-28T04:45:00  2024-09-28T08:10:00              None            None   \n",
      "2  2024-09-28T04:45:00  2024-09-28T08:10:00              None            None   \n",
      "3  2024-09-23T23:55:00  2024-09-24T01:30:00              None            None   \n",
      "4  2024-09-23T23:55:00  2024-09-24T01:30:00              None            None   \n",
      "\n",
      "  legs0_segments0_flightNumber legs1_segments0_flightNumber  \\\n",
      "0                         5310                         None   \n",
      "1                         5310                         None   \n",
      "2                         5310                         None   \n",
      "3                         6708                         None   \n",
      "4                         6708                         None   \n",
      "\n",
      "  legs0_segments1_flightNumber legs1_segments1_flightNumber  \\\n",
      "0                         5317                         None   \n",
      "1                         5317                         None   \n",
      "2                         5317                         None   \n",
      "3                         None                         None   \n",
      "4                         None                         None   \n",
      "\n",
      "                                              labels  \\\n",
      "0  [BestPrice, BestPriceTravelPolicy, BestPriceCo...   \n",
      "1                                          [MinTime]   \n",
      "2                                          [MinTime]   \n",
      "3  [BestPrice, BestPriceTravelPolicy, BestPriceDi...   \n",
      "4                                                 []   \n",
      "\n",
      "                               supplier  canBuyAddSer  flight_category  \\\n",
      "0  a1e6a000-eba1-bab0-dead-bab1bee1bee1         False                1   \n",
      "1  a1e6a000-eba1-bab0-dead-bab1bee1bee1         False                1   \n",
      "2  a1e6a000-eba1-bab0-dead-bab1bee1bee1         False                1   \n",
      "3  e294cac4-ea1b-4431-bc5c-464118070816         False                0   \n",
      "4  e294cac4-ea1b-4431-bc5c-464118070816         False                0   \n",
      "\n",
      "  ticket_designator  \n",
      "0              None  \n",
      "1              None  \n",
      "2              None  \n",
      "3              None  \n",
      "4              None  \n"
     ]
    }
   ],
   "source": [
    "print(extract_df.head())"
   ]
  },
  {
   "cell_type": "code",
   "execution_count": 13,
   "id": "3c268ba5",
   "metadata": {},
   "outputs": [],
   "source": [
    "extract_df.to_parquet(\"/home/zhengxiang/FlightRank/data/label.parquet\")"
   ]
  },
  {
   "cell_type": "code",
   "execution_count": 1,
   "id": "6b38bce3",
   "metadata": {},
   "outputs": [
    {
     "name": "stdout",
     "output_type": "stream",
     "text": [
      "shape: (21_347_281, 4)\n",
      "┌─────────────────────────────────┬────────┬──────────┬─────────────────────────────────┐\n",
      "│ ranker_id                       ┆ row_id ┆ category ┆ labels                          │\n",
      "│ ---                             ┆ ---    ┆ ---      ┆ ---                             │\n",
      "│ str                             ┆ i64    ┆ i64      ┆ list[str]                       │\n",
      "╞═════════════════════════════════╪════════╪══════════╪═════════════════════════════════╡\n",
      "│ 8d114ce973cf41c4907f5f7f4fd6a6… ┆ 0      ┆ 23       ┆ [\"BestPrice\", \"BestPriceTravel… │\n",
      "│ 8d114ce973cf41c4907f5f7f4fd6a6… ┆ 1      ┆ 0        ┆ []                              │\n",
      "│ 8d114ce973cf41c4907f5f7f4fd6a6… ┆ 2      ┆ 0        ┆ []                              │\n",
      "│ 8d114ce973cf41c4907f5f7f4fd6a6… ┆ 3      ┆ 264      ┆ [\"BestPriceCorporateTariff\", \"… │\n",
      "│ 8d114ce973cf41c4907f5f7f4fd6a6… ┆ 4      ┆ 256      ┆ [\"MinTime\"]                     │\n",
      "│ …                               ┆ …      ┆ …        ┆ …                               │\n",
      "│ 3921deea89204e76bf09a275b0d73c… ┆ 4996   ┆ 0        ┆ []                              │\n",
      "│ 3921deea89204e76bf09a275b0d73c… ┆ 4997   ┆ 0        ┆ []                              │\n",
      "│ 3921deea89204e76bf09a275b0d73c… ┆ 4998   ┆ 0        ┆ []                              │\n",
      "│ 3921deea89204e76bf09a275b0d73c… ┆ 4999   ┆ 0        ┆ []                              │\n",
      "│ 3921deea89204e76bf09a275b0d73c… ┆ 5000   ┆ 0        ┆ []                              │\n",
      "└─────────────────────────────────┴────────┴──────────┴─────────────────────────────────┘\n"
     ]
    }
   ],
   "source": [
    "import polars as pl\n",
    "\n",
    "OUTPUT_FILE = \"/home/zhengxiang/FlightRank/data/label.parquet\"\n",
    "# df = pl.read_csv(OUTPUT_FILE, schema_overrides={\"totalPrice\": pl.Float64})\n",
    "df = pl.read_parquet(OUTPUT_FILE)\n",
    "print(df)"
   ]
  },
  {
   "cell_type": "code",
   "execution_count": 14,
   "id": "b6a6bbcf",
   "metadata": {},
   "outputs": [],
   "source": [
    "extract_df = df.group_by([\"ranker_id\"]).agg(pl.len())"
   ]
  },
  {
   "cell_type": "code",
   "execution_count": 16,
   "id": "4990780b",
   "metadata": {},
   "outputs": [
    {
     "name": "stdout",
     "output_type": "stream",
     "text": [
      "7\n"
     ]
    }
   ],
   "source": [
    "print(extract_df[\"supplier\"].nunique())"
   ]
  },
  {
   "cell_type": "code",
   "execution_count": 2,
   "id": "116ef7c5",
   "metadata": {},
   "outputs": [
    {
     "name": "stdout",
     "output_type": "stream",
     "text": [
      "shape: (7_048_458, 6)\n",
      "┌─────────────────┬─────────────────┬─────────────────┬────────────────┬────────────────┬──────────┐\n",
      "│ ranker_id       ┆ legs0_departure ┆ legs0_arrivalAt ┆ legs1_departur ┆ legs1_arrivalA ┆ count_df │\n",
      "│ ---             ┆ At              ┆ ---             ┆ eAt            ┆ t              ┆ ---      │\n",
      "│ str             ┆ ---             ┆ str             ┆ ---            ┆ ---            ┆ u32      │\n",
      "│                 ┆ str             ┆                 ┆ str            ┆ str            ┆          │\n",
      "╞═════════════════╪═════════════════╪═════════════════╪════════════════╪════════════════╪══════════╡\n",
      "│ 55ba498fbff4417 ┆ 2024-10-31T15:2 ┆ 2024-11-01T15:0 ┆ 2024-11-16T06: ┆ 2024-11-17T13: ┆ 4        │\n",
      "│ 5a4835b8aa8e314 ┆ 0:00            ┆ 5:00            ┆ 50:00          ┆ 55:00          ┆          │\n",
      "│ …               ┆                 ┆                 ┆                ┆                ┆          │\n",
      "│ f3a3e3120e3148d ┆ 2024-10-31T07:0 ┆ 2024-10-31T08:3 ┆ 2024-11-02T18: ┆ 2024-11-02T19: ┆ 4        │\n",
      "│ e835ec576f80122 ┆ 0:00            ┆ 5:00            ┆ 00:00          ┆ 45:00          ┆          │\n",
      "│ …               ┆                 ┆                 ┆                ┆                ┆          │\n",
      "│ e4f12c39fadc4ce ┆ 2024-07-09T16:0 ┆ 2024-07-09T17:3 ┆ 2024-07-12T13: ┆ 2024-07-12T14: ┆ 8        │\n",
      "│ 288b3560f87473e ┆ 0:00            ┆ 0:00            ┆ 00:00          ┆ 30:00          ┆          │\n",
      "│ …               ┆                 ┆                 ┆                ┆                ┆          │\n",
      "│ 0d7f44be9099428 ┆ 2024-09-20T11:4 ┆ 2024-09-21T03:0 ┆ missing        ┆ missing        ┆ 1        │\n",
      "│ b9a4875847f3efd ┆ 5:00            ┆ 0:00            ┆                ┆                ┆          │\n",
      "│ …               ┆                 ┆                 ┆                ┆                ┆          │\n",
      "│ 00b06dfe4e03426 ┆ 2024-11-05T09:3 ┆ 2024-11-05T11:0 ┆ 2024-11-08T22: ┆ 2024-11-08T23: ┆ 1        │\n",
      "│ 6926ad4a620a538 ┆ 0:00            ┆ 5:00            ┆ 00:00          ┆ 55:00          ┆          │\n",
      "│ …               ┆                 ┆                 ┆                ┆                ┆          │\n",
      "│ …               ┆ …               ┆ …               ┆ …              ┆ …              ┆ …        │\n",
      "│ fd38246e685b44a ┆ 2024-10-21T20:3 ┆ 2024-10-22T04:4 ┆ missing        ┆ missing        ┆ 4        │\n",
      "│ a95d38c34cbb5af ┆ 0:00            ┆ 5:00            ┆                ┆                ┆          │\n",
      "│ …               ┆                 ┆                 ┆                ┆                ┆          │\n",
      "│ 1e2bb7a2521744d ┆ 2024-09-30T16:5 ┆ 2024-10-01T09:2 ┆ 2024-10-05T11: ┆ 2024-10-06T06: ┆ 2        │\n",
      "│ 0b4ac02dc3dc659 ┆ 0:00            ┆ 5:00            ┆ 25:00          ┆ 40:00          ┆          │\n",
      "│ …               ┆                 ┆                 ┆                ┆                ┆          │\n",
      "│ b75775209a214fc ┆ 2024-11-23T12:2 ┆ 2024-11-24T23:4 ┆ missing        ┆ missing        ┆ 1        │\n",
      "│ 989eea3d5a6438a ┆ 5:00            ┆ 5:00            ┆                ┆                ┆          │\n",
      "│ …               ┆                 ┆                 ┆                ┆                ┆          │\n",
      "│ ecca4b253bf7410 ┆ 2024-07-08T09:4 ┆ 2024-07-08T11:1 ┆ 2024-07-10T12: ┆ 2024-07-10T14: ┆ 1        │\n",
      "│ 9aa9fda00da1428 ┆ 5:00            ┆ 5:00            ┆ 45:00          ┆ 10:00          ┆          │\n",
      "│ …               ┆                 ┆                 ┆                ┆                ┆          │\n",
      "│ 6a965ae9dde74e4 ┆ 2024-08-07T08:2 ┆ 2024-08-07T18:0 ┆ 2024-08-16T15: ┆ 2024-08-16T22: ┆ 3        │\n",
      "│ 98b53e196e3de5d ┆ 0:00            ┆ 5:00            ┆ 35:00          ┆ 00:00          ┆          │\n",
      "│ …               ┆                 ┆                 ┆                ┆                ┆          │\n",
      "└─────────────────┴─────────────────┴─────────────────┴────────────────┴────────────────┴──────────┘\n"
     ]
    }
   ],
   "source": [
    "group_cols = [\n",
    "    \"ranker_id\",\n",
    "    # \"group_id\",\n",
    "    \"legs0_departureAt\",\n",
    "    \"legs0_arrivalAt\",\n",
    "    \"legs1_departureAt\",\n",
    "    \"legs1_arrivalAt\",\n",
    "]\n",
    "\n",
    "# 选择这些列进行填充\n",
    "df = df.with_columns(\n",
    "    [\n",
    "        pl.col(\"legs1_departureAt\").fill_null(\"missing\"),\n",
    "        pl.col(\"legs1_arrivalAt\").fill_null(\"missing\"),\n",
    "        pl.col(\"legs0_departureAt\").fill_null(\"missing\"),\n",
    "        pl.col(\"legs0_arrivalAt\").fill_null(\"missing\"),\n",
    "    ]\n",
    ")\n",
    "\n",
    "# 然后 group_by 和 join 操作就不会因 null 产生意外行为了\n",
    "group_df = df.group_by(group_cols).agg(pl.len().alias(\"count_df\"))\n",
    "print(group_df)"
   ]
  },
  {
   "cell_type": "code",
   "execution_count": 14,
   "id": "a1a135fa",
   "metadata": {},
   "outputs": [],
   "source": [
    "label_df = pl.read_parquet(\"./data/label_tmp.parquet\")\n",
    "\n",
    "label_df = label_df.rename(\n",
    "    {\n",
    "        \"legs0_segs0_flightNumber\": \"legs0_segments0_flightNumber\",\n",
    "        \"legs1_segs0_flightNumber\": \"legs1_segments0_flightNumber\",\n",
    "    }\n",
    ")\n",
    "\n",
    "fill_str_cols = [\n",
    "    \"legs0_segments0_flightNumber\",\n",
    "    \"legs1_segments0_flightNumber\",\n",
    "    \"legs0_departureAt\",\n",
    "    \"legs0_arrivalAt\",\n",
    "    \"legs1_departureAt\",\n",
    "    \"legs1_arrivalAt\",\n",
    "]\n",
    "\n",
    "\n",
    "for col in fill_str_cols:\n",
    "    label_df = label_df.with_columns(pl.col(col).fill_null(\"missing\"))"
   ]
  },
  {
   "cell_type": "code",
   "execution_count": 15,
   "id": "63ca2abc",
   "metadata": {},
   "outputs": [],
   "source": [
    "import os\n",
    "\n",
    "train = pl.read_parquet(os.path.join(\"data\", \"train.parquet\")).drop(\"__index_level_0__\")\n",
    "test = (\n",
    "    pl.read_parquet(os.path.join(\"data\", \"test.parquet\"))\n",
    "    .drop(\"__index_level_0__\")\n",
    "    .with_columns(pl.lit(0, dtype=pl.Int64).alias(\"selected\"))\n",
    ")\n",
    "\n",
    "raw = pl.concat((train, test))\n",
    "\n",
    "for col in fill_str_cols:\n",
    "    raw = raw.with_columns(pl.col(col).fill_null(\"missing\"))\n",
    "\n",
    "\n",
    "raw = raw.select(\n",
    "    [\n",
    "        \"ranker_id\",\n",
    "        \"totalPrice\",\n",
    "    ]\n",
    "    + fill_str_cols\n",
    ")\n",
    "\n",
    "raw = raw.join(\n",
    "    label_df,\n",
    "    on=[\n",
    "        \"ranker_id\",\n",
    "        \"legs0_segments0_flightNumber\",\n",
    "        \"legs1_segments0_flightNumber\",\n",
    "        \"totalPrice\",\n",
    "        \"legs0_departureAt\",\n",
    "        \"legs0_arrivalAt\",\n",
    "        \"legs1_departureAt\",\n",
    "        \"legs1_arrivalAt\",\n",
    "    ],\n",
    "    how=\"inner\",\n",
    ")"
   ]
  },
  {
   "cell_type": "code",
   "execution_count": null,
   "id": "5eb18ea4",
   "metadata": {},
   "outputs": [
    {
     "name": "stdout",
     "output_type": "stream",
     "text": [
      "18145372\n",
      "shape: (150_770, 2)\n",
      "┌─────────────────────────────────┬──────┐\n",
      "│ ranker_id                       ┆ len  │\n",
      "│ ---                             ┆ ---  │\n",
      "│ str                             ┆ u32  │\n",
      "╞═════════════════════════════════╪══════╡\n",
      "│ b3fcd012a59a445890995e86b48a14… ┆ 25   │\n",
      "│ 094aefc664d04d70bc1d38617dffe8… ┆ 58   │\n",
      "│ 8cada042cdc342b59d701132e75591… ┆ 69   │\n",
      "│ bb1d19853f77423faf8141f071a2c2… ┆ 304  │\n",
      "│ 467f90e4347b4d238d3465a3527b5f… ┆ 63   │\n",
      "│ …                               ┆ …    │\n",
      "│ 208abeddae264678b2ac4079aaa520… ┆ 12   │\n",
      "│ a48902f6160d455f8a19d76e83c119… ┆ 26   │\n",
      "│ 9709b8b6adb3496eb79a382cbfa8cb… ┆ 1    │\n",
      "│ 79a267d4ea824b6c986f46d61f1f34… ┆ 1588 │\n",
      "│ 737b457ee52143a4a3a5872fb10451… ┆ 92   │\n",
      "└─────────────────────────────────┴──────┘\n"
     ]
    }
   ],
   "source": [
    "import os\n",
    "\n",
    "train = pl.read_parquet(os.path.join(\"data\", \"train.parquet\")).drop(\"__index_level_0__\")\n",
    "test = (\n",
    "    pl.read_parquet(os.path.join(\"data\", \"test.parquet\"))\n",
    "    .drop(\"__index_level_0__\")\n",
    "    .with_columns(pl.lit(0, dtype=pl.Int64).alias(\"selected\"))\n",
    ")\n",
    "\n",
    "train_test = pl.concat((train, test))\n",
    "\n",
    "\n",
    "train_test_df = train_test.group_by(\n",
    "    [\n",
    "        \"ranker_id\",\n",
    "        # \"legs0_duration\",\n",
    "        # \"legs1_duration\",\n",
    "        # \"legs0_departureAt\",\n",
    "        # \"legs0_arrivalAt\",\n",
    "        # \"legs1_departureAt\",\n",
    "        # \"legs1_arrivalAt\",\n",
    "        # \"legs0_segments0_flightNumber\",\n",
    "        # \"legs1_segments0_flightNumber\",\n",
    "    ]\n",
    ").agg(pl.len())\n",
    "\n",
    "print(train_test_df)"
   ]
  },
  {
   "cell_type": "code",
   "execution_count": 17,
   "id": "b829ee06",
   "metadata": {},
   "outputs": [
    {
     "name": "stdout",
     "output_type": "stream",
     "text": [
      "shape: (126_357, 4)\n",
      "┌─────────────────────────────────┬──────┬───────────┬────────┐\n",
      "│ ranker_id                       ┆ len  ┆ len_right ┆ len_df │\n",
      "│ ---                             ┆ ---  ┆ ---       ┆ ---    │\n",
      "│ str                             ┆ u32  ┆ u32       ┆ u32    │\n",
      "╞═════════════════════════════════╪══════╪═══════════╪════════╡\n",
      "│ 094aefc664d04d70bc1d38617dffe8… ┆ 58   ┆ 58        ┆ 0      │\n",
      "│ 8cada042cdc342b59d701132e75591… ┆ 69   ┆ 69        ┆ 0      │\n",
      "│ bb1d19853f77423faf8141f071a2c2… ┆ 304  ┆ 304       ┆ 0      │\n",
      "│ 467f90e4347b4d238d3465a3527b5f… ┆ 63   ┆ 63        ┆ 0      │\n",
      "│ 7913e57e519f4ec5b8a123e7afe7f0… ┆ 1905 ┆ 1905      ┆ 0      │\n",
      "│ …                               ┆ …    ┆ …         ┆ …      │\n",
      "│ a3ca945bf4aa43ddbcd1065ea6dbcf… ┆ 23   ┆ 23        ┆ 0      │\n",
      "│ 208abeddae264678b2ac4079aaa520… ┆ 12   ┆ 12        ┆ 0      │\n",
      "│ a48902f6160d455f8a19d76e83c119… ┆ 26   ┆ 26        ┆ 0      │\n",
      "│ 9709b8b6adb3496eb79a382cbfa8cb… ┆ 1    ┆ 1         ┆ 0      │\n",
      "│ 737b457ee52143a4a3a5872fb10451… ┆ 92   ┆ 92        ┆ 0      │\n",
      "└─────────────────────────────────┴──────┴───────────┴────────┘\n"
     ]
    }
   ],
   "source": [
    "code_df = train_test_df.join(extract_df, on=\"ranker_id\", how=\"inner\")\n",
    "code_df = code_df.with_columns((pl.col(\"len_right\") - pl.col(\"len\")).alias(\"len_df\"))\n",
    "print(code_df)"
   ]
  },
  {
   "cell_type": "code",
   "execution_count": null,
   "id": "152380f0",
   "metadata": {},
   "outputs": [],
   "source": [
    "def cols_equal(col_name):\n",
    "    left = pl.col(col_name)\n",
    "    right = pl.col(f\"{col_name}_right\")\n",
    "    return (left == right) | (left.is_null() & right.is_null())\n",
    "\n",
    "\n",
    "raw = raw.with_columns(\n",
    "    [\n",
    "        cols_equal(\"totalPrice\").alias(\"totalPrice_equal\"),\n",
    "        cols_equal(\"legs0_departureAt\").alias(\"legs0_departureAt_equal\"),\n",
    "        cols_equal(\"legs0_arrivalAt\").alias(\"legs0_arrivalAt_equal\"),\n",
    "        cols_equal(\"legs1_departureAt\").alias(\"legs1_departureAt_equal\"),\n",
    "        cols_equal(\"legs1_arrivalAt\").alias(\"legs1_arrivalAt_equal\"),\n",
    "    ]\n",
    ")\n",
    "\n",
    "raw = raw.with_columns(\n",
    "    (\n",
    "        pl.col(\"totalPrice_equal\")\n",
    "        & pl.col(\"legs0_departureAt_equal\")\n",
    "        & pl.col(\"legs0_arrivalAt_equal\")\n",
    "        & pl.col(\"legs1_departureAt_equal\")\n",
    "        & pl.col(\"legs1_arrivalAt_equal\")\n",
    "    ).alias(\"all_fields_equal\")\n",
    ")\n",
    "\n",
    "# raw = raw.select([\"ranker_id\", \"row_id\", \"totalPrice\", \"totalPrice_right\", \"totalPrice_equal\", \"all_fields_equal\"])"
   ]
  },
  {
   "cell_type": "code",
   "execution_count": 15,
   "id": "bd42f092",
   "metadata": {},
   "outputs": [
    {
     "name": "stdout",
     "output_type": "stream",
     "text": [
      "shape: (22_429_111, 4)\n",
      "┌─────────────────────────────────┬────────┬──────────┬────────────┐\n",
      "│ ranker_id                       ┆ row_id ┆ group_id ┆ totalPrice │\n",
      "│ ---                             ┆ ---    ┆ ---      ┆ ---        │\n",
      "│ str                             ┆ i64    ┆ i64      ┆ f64        │\n",
      "╞═════════════════════════════════╪════════╪══════════╪════════════╡\n",
      "│ 98ce0dabf6964640b63079fbafd42c… ┆ 0      ┆ 0        ┆ 16884.0    │\n",
      "│ 98ce0dabf6964640b63079fbafd42c… ┆ 1      ┆ 1        ┆ 51125.0    │\n",
      "│ 98ce0dabf6964640b63079fbafd42c… ┆ 2      ┆ 1        ┆ 53695.0    │\n",
      "│ 98ce0dabf6964640b63079fbafd42c… ┆ 3      ┆ 1        ┆ 81880.0    │\n",
      "│ 98ce0dabf6964640b63079fbafd42c… ┆ 4      ┆ 1        ┆ 86070.0    │\n",
      "│ …                               ┆ …      ┆ …        ┆ …          │\n",
      "│ 302475b6405d464eaf01a85cf496e2… ┆ 9      ┆ 2        ┆ 69911.0    │\n",
      "│ 302475b6405d464eaf01a85cf496e2… ┆ 10     ┆ 3        ┆ 54738.0    │\n",
      "│ 302475b6405d464eaf01a85cf496e2… ┆ 11     ┆ 4        ┆ 78743.0    │\n",
      "│ 623cd11551d648efa595e6ecdb009c… ┆ 0      ┆ 0        ┆ 18120.0    │\n",
      "│ 623cd11551d648efa595e6ecdb009c… ┆ 1      ┆ 0        ┆ 28120.0    │\n",
      "└─────────────────────────────────┴────────┴──────────┴────────────┘\n"
     ]
    }
   ],
   "source": [
    "raw_display = raw.select([\"ranker_id\", \"row_id\", \"group_id\", \"totalPrice\"])\n",
    "print(raw_display)"
   ]
  },
  {
   "cell_type": "code",
   "execution_count": 21,
   "id": "c5ecfe95",
   "metadata": {},
   "outputs": [],
   "source": [
    "group_raw = raw.group_by(\n",
    "    [\n",
    "        \"ranker_id\",\n",
    "        \"group_id\",\n",
    "    ]\n",
    ").agg(pl.len().alias(\"count_raw\"))"
   ]
  },
  {
   "cell_type": "code",
   "execution_count": 22,
   "id": "27e49509",
   "metadata": {},
   "outputs": [
    {
     "name": "stderr",
     "output_type": "stream",
     "text": [
      "/tmp/ipykernel_2547630/4193525889.py:1: DeprecationWarning: use of `how='outer'` should be replaced with `how='full'`.\n",
      "(Deprecated in version 0.20.29)\n",
      "  diff = group_df.join(group_raw, on=[\n"
     ]
    }
   ],
   "source": [
    "diff = group_df.join(group_raw, on=[\"ranker_id\", \"group_id\"], how=\"outer\")\n",
    "\n",
    "# 增加差异列\n",
    "diff = diff.with_columns((pl.col(\"count_df\") - pl.col(\"count_raw\")).alias(\"count_diff\"))\n",
    "\n",
    "diff = diff.select([\"ranker_id\", \"count_diff\"])\n",
    "# 查看有差异的行\n",
    "# diff.filter(pl.col(\"count_diff\") != 0).sort(\"count_diff\", descending=True).show()"
   ]
  },
  {
   "cell_type": "code",
   "execution_count": 6,
   "id": "324e780d",
   "metadata": {},
   "outputs": [
    {
     "name": "stdout",
     "output_type": "stream",
     "text": [
      "{'BestPrice', None, 'BestPriceTravelPolicy', 'BestPriceDirect', 'Convenience', 'MinTime', 'BestPriceCorporateTariff'}\n"
     ]
    }
   ],
   "source": [
    "import polars as pl\n",
    "\n",
    "all_labels = df.select(pl.col(\"labels\").explode()).unique().to_series().to_list()\n",
    "print(set(all_labels))"
   ]
  },
  {
   "cell_type": "code",
   "execution_count": 5,
   "id": "4d31a9b5",
   "metadata": {},
   "outputs": [
    {
     "name": "stderr",
     "output_type": "stream",
     "text": [
      "/tmp/ipykernel_2696938/3601943820.py:10: DeprecationWarning: `pl.count()` is deprecated. Please use `pl.len()` instead.\n",
      "(Deprecated in version 0.20.5)\n",
      "  df = df.with_columns(pl.arange(0, pl.count()).over(\"ranker_id\").alias(\"row_id\"))\n"
     ]
    }
   ],
   "source": [
    "import os\n",
    "import polars as pl\n",
    "\n",
    "train = pl.read_parquet(os.path.join(\"data\", \"train.parquet\")).drop(\"__index_level_0__\")\n",
    "\n",
    "df = train\n",
    "\n",
    "label_df = pl.read_parquet(\"./data/label.parquet\")\n",
    "\n",
    "df = df.with_columns(pl.arange(0, pl.len()).over(\"ranker_id\").alias(\"row_id\"))\n",
    "\n",
    "# join\n",
    "df = df.join(\n",
    "    label_df.select([\"ranker_id\", \"row_id\", \"labels\", \"category\"]),\n",
    "    on=[\"ranker_id\", \"row_id\"],\n",
    "    how=\"left\",\n",
    ")\n",
    "\n",
    "df = df.with_columns(pl.col(\"labels\").list.len().log1p().alias(\"labels_count\"))\n",
    "\n",
    "df = df.with_columns(\n",
    "    (pl.col(\"labels\").list.len() > 0).cast(pl.Int8).alias(\"has_any_label\")\n",
    ")\n",
    "\n",
    "df = df.filter(pl.col(\"selected\") == 1)\n",
    "df = df.drop([\"labels\"]).select(\n",
    "    [\"Id\", \"row_id\", \"ranker_id\", \"category\", \"has_any_label\"]\n",
    ")"
   ]
  },
  {
   "cell_type": "code",
   "execution_count": 13,
   "id": "fd6217ee",
   "metadata": {},
   "outputs": [
    {
     "name": "stdout",
     "output_type": "stream",
     "text": [
      "0.5387\n"
     ]
    },
    {
     "data": {
      "image/png": "[encoded data removed]",
      "text/plain": [
       "<Figure size 1000x600 with 1 Axes>"
      ]
     },
     "metadata": {},
     "output_type": "display_data"
    }
   ],
   "source": [
    "import matplotlib.pyplot as plt\n",
    "import seaborn as sns\n",
    "\n",
    "# 转为 pandas\n",
    "df_pd = df.to_pandas()\n",
    "\n",
    "total_selected = len(df_pd)\n",
    "\n",
    "# 仅保留 row_id < 1000 的数据\n",
    "df_pd = df_pd[df_pd[\"row_id\"] < 10]\n",
    "\n",
    "print(f\"{len(df_pd) / total_selected:.4f}\")\n",
    "\n",
    "# 画图\n",
    "plt.figure(figsize=(10, 6))\n",
    "sns.histplot(df_pd[\"row_id\"], bins=10, kde=True, color=\"skyblue\")\n",
    "plt.title(\"Distribution of row_id (row_id < 1000)\")\n",
    "plt.xlabel(\"row_id\")\n",
    "plt.ylabel(\"Frequency\")\n",
    "plt.grid(True)\n",
    "plt.tight_layout()\n",
    "plt.show()"
   ]
  },
  {
   "cell_type": "code",
   "execution_count": 4,
   "id": "628d1102",
   "metadata": {},
   "outputs": [
    {
     "name": "stderr",
     "output_type": "stream",
     "text": [
      "100%|██████████| 150770/150770 [00:16<00:00, 8957.92it/s]\n"
     ]
    }
   ],
   "source": [
    "import os\n",
    "import ijson\n",
    "import pandas as pd\n",
    "from concurrent.futures import ProcessPoolExecutor, as_completed\n",
    "from tqdm import tqdm\n",
    "\n",
    "RAW_DIR = \"/home/zhengxiang/FlightRank/data/raw\"\n",
    "OUTPUT_FILE = \"/home/zhengxiang/FlightRank/data/ranker.parquet\"\n",
    "\n",
    "\n",
    "def extract_ranker_infos_from_json(file_path):\n",
    "    ranker_id = os.path.splitext(os.path.basename(file_path))[0]\n",
    "    result = {\n",
    "        \"ranker_id\": ranker_id,\n",
    "        \"searchType\": None,\n",
    "        \"yearOfBirth\": None,\n",
    "        \"hasAssistant\": None,\n",
    "        \"isGlobal\": None,\n",
    "    }\n",
    "\n",
    "    try:\n",
    "        with open(file_path, \"rb\") as f:\n",
    "            parser = ijson.parse(f)\n",
    "            for prefix, event, value in parser:\n",
    "                if prefix == \"metadata.searchType\" and event == \"number\":\n",
    "                    result[\"searchType\"] = value\n",
    "                elif prefix == \"personalData.yearOfBirth\" and event == \"number\":\n",
    "                    result[\"yearOfBirth\"] = value\n",
    "                elif prefix == \"personalData.hasAssistant\" and event == \"boolean\":\n",
    "                    result[\"hasAssistant\"] = value\n",
    "                elif prefix == \"personalData.isGlobal\" and event == \"boolean\":\n",
    "                    result[\"isGlobal\"] = value\n",
    "                if all(v is not None for v in result.values() if v != \"ranker_id\"):\n",
    "                    break\n",
    "    except Exception as e:\n",
    "        print(f\"Error reading {file_path}: {e}\")\n",
    "\n",
    "    return result\n",
    "\n",
    "\n",
    "def main():\n",
    "    json_files = [\n",
    "        os.path.join(RAW_DIR, f) for f in os.listdir(RAW_DIR) if f.endswith(\".json\")\n",
    "    ]\n",
    "\n",
    "    all_results = []\n",
    "    with ProcessPoolExecutor(max_workers=16) as executor:\n",
    "        futures = {\n",
    "            executor.submit(extract_ranker_infos_from_json, fp): fp for fp in json_files\n",
    "        }\n",
    "        for future in tqdm(as_completed(futures), total=len(json_files)):\n",
    "            result = future.result()\n",
    "            if result:\n",
    "                all_results.append(result)\n",
    "\n",
    "    return pd.DataFrame(all_results)\n",
    "\n",
    "\n",
    "if __name__ == \"__main__\":\n",
    "    extract_df = main()"
   ]
  },
  {
   "cell_type": "code",
   "execution_count": 5,
   "id": "984c3c4f",
   "metadata": {},
   "outputs": [
    {
     "name": "stdout",
     "output_type": "stream",
     "text": [
      "                               ranker_id  searchType  yearOfBirth  \\\n",
      "0       5bf9a57437be46ad976dfbe11c88ba46           1       1995.0   \n",
      "1       030d6aca70de4758b44df26a155af63b           1       1970.0   \n",
      "2       b960cbc710b64950b1d76d1f06ab7968           1       1993.0   \n",
      "3       6cc70bcec3f5454d819f133682656463           1       1978.0   \n",
      "4       759b341c10704f609f8085ee3057f6fd           0       1981.0   \n",
      "...                                  ...         ...          ...   \n",
      "150765  84cd5ffde326470781a1944171c793e6           1       1970.0   \n",
      "150766  5f31c0780d9e4029ac1e787a6ad63b64           1       1977.0   \n",
      "150767  c5ee207cd42f438d9c2adcd80278f4e4           1       1967.0   \n",
      "150768  304729a89c5d449781476042e07ee6c4           1       1979.0   \n",
      "150769  843d29a23e8344f8a80b4876da616b20           1       1984.0   \n",
      "\n",
      "        hasAssistant  isGlobal  \n",
      "0              False     False  \n",
      "1              False     False  \n",
      "2              False     False  \n",
      "3              False     False  \n",
      "4              False     False  \n",
      "...              ...       ...  \n",
      "150765         False     False  \n",
      "150766         False     False  \n",
      "150767         False     False  \n",
      "150768         False     False  \n",
      "150769         False     False  \n",
      "\n",
      "[150770 rows x 5 columns]\n"
     ]
    }
   ],
   "source": [
    "print(extract_df)"
   ]
  },
  {
   "cell_type": "code",
   "execution_count": 7,
   "id": "7c544b74",
   "metadata": {},
   "outputs": [],
   "source": [
    "extract_df.to_parquet(OUTPUT_FILE)"
   ]
  }
 ],
 "metadata": {
  "kernelspec": {
   "display_name": "FlightRank",
   "language": "python",
   "name": "python3"
  },
  "language_info": {
   "codemirror_mode": {
    "name": "ipython",
    "version": 3
   },
   "file_extension": ".py",
   "mimetype": "text/x-python",
   "name": "python",
   "nbconvert_exporter": "python",
   "pygments_lexer": "ipython3",
   "version": "3.11.13"
  }
 },
 "nbformat": 4,
 "nbformat_minor": 5
}
