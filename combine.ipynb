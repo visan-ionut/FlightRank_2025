{
 "cells": [
  {
   "cell_type": "code",
   "execution_count": 1,
   "id": "81ccd864",
   "metadata": {},
   "outputs": [],
   "source": [
    "import polars as pl\n",
    "\n",
    "one_path = \"./submission/submission_20250814064056.parquet\"\n",
    "two_path = \"./submission/submission_20250814064508.parquet\""
   ]
  },
  {
   "cell_type": "code",
   "execution_count": 4,
   "id": "d3a4388a",
   "metadata": {},
   "outputs": [
    {
     "name": "stdout",
     "output_type": "stream",
     "text": [
      "1115840\n",
      "shape: (5, 3)\n",
      "┌──────────┬─────────────────────────────────┬──────────┐\n",
      "│ Id       ┆ ranker_id                       ┆ selected │\n",
      "│ ---      ┆ ---                             ┆ ---      │\n",
      "│ i64      ┆ str                             ┆ i32      │\n",
      "╞══════════╪═════════════════════════════════╪══════════╡\n",
      "│ 18145792 ┆ 8c387f33dc824a89ba7a6f2cb5908e… ┆ 23       │\n",
      "│ 18145793 ┆ 8c387f33dc824a89ba7a6f2cb5908e… ┆ 21       │\n",
      "│ 18145794 ┆ 8c387f33dc824a89ba7a6f2cb5908e… ┆ 35       │\n",
      "│ 18145795 ┆ 8c387f33dc824a89ba7a6f2cb5908e… ┆ 29       │\n",
      "│ 18145796 ┆ 8c387f33dc824a89ba7a6f2cb5908e… ┆ 31       │\n",
      "└──────────┴─────────────────────────────────┴──────────┘\n",
      "5781936\n",
      "shape: (5, 3)\n",
      "┌──────────┬─────────────────────────────────┬──────────┐\n",
      "│ Id       ┆ ranker_id                       ┆ selected │\n",
      "│ ---      ┆ ---                             ┆ ---      │\n",
      "│ i64      ┆ str                             ┆ i32      │\n",
      "╞══════════╪═════════════════════════════════╪══════════╡\n",
      "│ 18144679 ┆ c9373e5f772e43d593dd6ad2fa90f6… ┆ 4        │\n",
      "│ 18144680 ┆ c9373e5f772e43d593dd6ad2fa90f6… ┆ 15       │\n",
      "│ 18144681 ┆ c9373e5f772e43d593dd6ad2fa90f6… ┆ 252      │\n",
      "│ 18144682 ┆ c9373e5f772e43d593dd6ad2fa90f6… ┆ 81       │\n",
      "│ 18144683 ┆ c9373e5f772e43d593dd6ad2fa90f6… ┆ 47       │\n",
      "└──────────┴─────────────────────────────────┴──────────┘\n"
     ]
    }
   ],
   "source": [
    "one_df = pl.read_parquet(one_path)\n",
    "two_df = pl.read_parquet(two_path)\n",
    "print(len(one_df))\n",
    "print(one_df.head())\n",
    "print(len(two_df))\n",
    "print(two_df.head())"
   ]
  },
  {
   "cell_type": "code",
   "execution_count": 6,
   "id": "1847dd16",
   "metadata": {},
   "outputs": [
    {
     "name": "stdout",
     "output_type": "stream",
     "text": [
      "6897776\n",
      "shape: (5, 3)\n",
      "┌──────────┬─────────────────────────────────┬──────────┐\n",
      "│ Id       ┆ ranker_id                       ┆ selected │\n",
      "│ ---      ┆ ---                             ┆ ---      │\n",
      "│ i64      ┆ str                             ┆ i32      │\n",
      "╞══════════╪═════════════════════════════════╪══════════╡\n",
      "│ 18144679 ┆ c9373e5f772e43d593dd6ad2fa90f6… ┆ 4        │\n",
      "│ 18144680 ┆ c9373e5f772e43d593dd6ad2fa90f6… ┆ 15       │\n",
      "│ 18144681 ┆ c9373e5f772e43d593dd6ad2fa90f6… ┆ 252      │\n",
      "│ 18144682 ┆ c9373e5f772e43d593dd6ad2fa90f6… ┆ 81       │\n",
      "│ 18144683 ┆ c9373e5f772e43d593dd6ad2fa90f6… ┆ 47       │\n",
      "└──────────┴─────────────────────────────────┴──────────┘\n"
     ]
    }
   ],
   "source": [
    "combined_df = pl.concat([one_df, two_df])\n",
    "combined_df = combined_df.sort(by=\"Id\")\n",
    "print(len(combined_df))\n",
    "print(combined_df.head())"
   ]
  },
  {
   "cell_type": "code",
   "execution_count": 7,
   "id": "5873a06f",
   "metadata": {},
   "outputs": [],
   "source": [
    "combined_df.write_parquet(\"./submission_combined.parquet\")"
   ]
  }
 ],
 "metadata": {
  "kernelspec": {
   "display_name": "FlightRank",
   "language": "python",
   "name": "python3"
  },
  "language_info": {
   "codemirror_mode": {
    "name": "ipython",
    "version": 3
   },
   "file_extension": ".py",
   "mimetype": "text/x-python",
   "name": "python",
   "nbconvert_exporter": "python",
   "pygments_lexer": "ipython3",
   "version": "3.11.13"
  }
 },
 "nbformat": 4,
 "nbformat_minor": 5
}
